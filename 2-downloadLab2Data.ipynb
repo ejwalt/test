{
 "cells": [
  {
   "cell_type": "code",
   "execution_count": 3,
   "metadata": {},
   "outputs": [],
   "source": [
    "#This is a carbon copy of the code in assignment 1 to build our dataset.\n",
    "#If you have any questions about how it operates, refer back to assignment 1!\n",
    "import requests\n",
    "import tarfile\n",
    "import os\n",
    "import numpy as np\n",
    "import pickle\n",
    "\n",
    "r = requests.get(\"https://www.cs.toronto.edu/~kriz/cifar-10-python.tar.gz\")\n",
    "\n",
    "open(\"cifar-10-python.tar.gz\", 'wb').write(r.content)\n",
    "tarfile.open(\"cifar-10-python.tar.gz\").extractall()\n",
    "cifar10_dir = 'cifar-10-batches-py'\n",
    "\n",
    "xs = []\n",
    "ys = []\n",
    "for b in range(1,6):\n",
    "    d = os.path.join(cifar10_dir, 'data_batch_%d' % (b, ))\n",
    "    \n",
    "    with open(d, 'rb') as f:\n",
    "        datadict = pickle.load(f, encoding='latin1')\n",
    "        X = datadict['data']\n",
    "        Y = datadict['labels']\n",
    "        X = X.reshape(10000, 3, 32, 32).transpose(0,2,3,1).astype(\"float\")\n",
    "        y = np.array(Y)\n",
    "    xs.append(X)\n",
    "    ys.append(y)\n",
    "X_train = np.concatenate(xs)\n",
    "y_train = np.concatenate(ys)\n",
    "\n",
    "with open(os.path.join(cifar10_dir, \"test_batch\"), 'rb') as f:\n",
    "    datadict = pickle.load(f, encoding='latin1')\n",
    "    X = datadict['data']\n",
    "    Y = datadict['labels']\n",
    "    X_test = X.reshape(10000, 3, 32, 32).transpose(0,2,3,1).astype(\"float\")\n",
    "    y_test = np.array(Y)\n",
    "\n",
    "with open('testTrainLab2.pickle', 'wb') as f:\n",
    "    labData = {}\n",
    "    labData[\"X_train\"] = X_train\n",
    "    labData[\"y_train\"] = y_train\n",
    "    labData[\"X_test\"] = X_test\n",
    "    labData[\"y_test\"] = y_test\n",
    "    pickle.dump(labData, f)"
   ]
  }
 ],
 "metadata": {
  "kernelspec": {
   "name": "python3",
   "display_name": "Python 3.8.5 64-bit ('data442': conda)",
   "metadata": {
    "interpreter": {
     "hash": "8e3a21d38ab9816cf2a4fb5b70910b2de32092d7fedca6365d5651d786256744"
    }
   }
  },
  "language_info": {
   "codemirror_mode": {
    "name": "ipython",
    "version": 3
   },
   "file_extension": ".py",
   "mimetype": "text/x-python",
   "name": "python",
   "nbconvert_exporter": "python",
   "pygments_lexer": "ipython3",
   "version": "3.8.5-final"
  }
 },
 "nbformat": 4,
 "nbformat_minor": 4
}